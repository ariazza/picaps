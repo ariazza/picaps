{
 "cells": [
  {
   "cell_type": "markdown",
   "metadata": {},
   "source": [
    "# Data analysis, classifing models and predictions"
   ]
  },
  {
   "cell_type": "code",
   "execution_count": null,
   "metadata": {},
   "outputs": [],
   "source": [
    "import pandas as pd\n",
    "import numpy as np\n",
    "import seaborn as sns\n",
    "import matplotlib.pyplot as plt\n",
    "\n",
    "#from statistics import mean, variance, stdev\n",
    "#from statsmodels.distributions.empirical_distribution import ECDF\n",
    "#from math import sqrt\n",
    "\n",
    "%matplotlib inline\n",
    "#%config InlineBackend.figure_format = 'svg'\n",
    "\n",
    "pd.set_option('display.max_rows', None)\n",
    "pd.set_option('display.max_columns', None)\n",
    "pd.set_option('display.width', None)\n",
    "pd.set_option('display.max_colwidth', None)\n",
    "\n",
    "#Import clean dataset\n",
    "data=pd.read_csv('data_clean.csv')"
   ]
  },
  {
   "cell_type": "markdown",
   "metadata": {},
   "source": [
    "## Dropping data leakage columns and checking correlations with target column 'out_of_school'"
   ]
  },
  {
   "cell_type": "code",
   "execution_count": null,
   "metadata": {},
   "outputs": [],
   "source": [
    "data.drop('num_kids_noschool',axis=1, inplace=True)\n",
    "data.drop('num_kids_left_school',axis=1, inplace=True)\n",
    "data.drop('num_girls_noschool',axis=1, inplace=True)\n",
    "data.drop('num_girls_left_school',axis=1, inplace=True)\n",
    "data.drop('id',axis=1, inplace=True)"
   ]
  },
  {
   "cell_type": "code",
   "execution_count": null,
   "metadata": {},
   "outputs": [],
   "source": [
    "data.shape"
   ]
  },
  {
   "cell_type": "code",
   "execution_count": null,
   "metadata": {},
   "outputs": [],
   "source": [
    "#Check correlations with target column 'out_of_school' to select features\n",
    "corr = data.corr()\n",
    "#corr"
   ]
  },
  {
   "cell_type": "code",
   "execution_count": null,
   "metadata": {},
   "outputs": [],
   "source": [
    "abs(corr['out_of_school']).sort_values()"
   ]
  },
  {
   "cell_type": "code",
   "execution_count": null,
   "metadata": {},
   "outputs": [],
   "source": [
    "#Correlation with output variable\n",
    "cor_target = abs(corr[\"out_of_school\"])\n",
    "y = []\n",
    "# create Correlation Chart\n",
    "for i in range(100):\n",
    "    relevant_features = cor_target[cor_target>i/100]\n",
    "    _y = len(relevant_features)\n",
    "    y.append(_y)\n",
    "\n",
    "plt.figure(figsize=(11,6))\n",
    "    \n",
    "ax = sns.lineplot(x=[x/100 for x in range(100)], y=y)\n",
    "\n",
    "ax.set_xlabel('threshold', fontsize=18)\n",
    "ax.set_ylabel('features amount', fontsize=18)\n",
    "\n",
    "ax.set_title('Feature correlation importance', fontsize=20)\n",
    "\n",
    "plt.xlim(0,1.0)\n",
    "plt.ylim(0,45)\n",
    "\n",
    "fig=ax.get_figure()\n",
    "fig.savefig('output_figures/features_correlation.pdf')"
   ]
  },
  {
   "cell_type": "code",
   "execution_count": null,
   "metadata": {},
   "outputs": [],
   "source": [
    "#Correlation with output variable\n",
    "cor_target = abs(corr[\"out_of_school\"])\n",
    "#Selecting highly correlated features (you can play with the threshold value to see how classifier changes)\n",
    "relevant_features = cor_target[cor_target>0.1]\n",
    "relevant_features.sort_values()"
   ]
  },
  {
   "cell_type": "code",
   "execution_count": null,
   "metadata": {},
   "outputs": [],
   "source": [
    "feat_list = list(filter(lambda x: x != 'out_of_school', relevant_features.keys()))\n",
    "classes = data['out_of_school']\n",
    "clf_data = pd.DataFrame()\n",
    "clf_data = data[feat_list]\n",
    "clf_data['out_of_school'] = classes\n",
    "clf_data = clf_data.fillna(0)"
   ]
  },
  {
   "cell_type": "code",
   "execution_count": null,
   "metadata": {},
   "outputs": [],
   "source": [
    "clf_data.shape"
   ]
  },
  {
   "cell_type": "code",
   "execution_count": null,
   "metadata": {},
   "outputs": [],
   "source": [
    "clf_data.keys()"
   ]
  },
  {
   "cell_type": "code",
   "execution_count": null,
   "metadata": {},
   "outputs": [],
   "source": [
    "with open(\"output_files/important_features_list.txt\", \"w\") as outfile:\n",
    "    outfile.write(\"\\n\".join(feat_list))"
   ]
  },
  {
   "cell_type": "markdown",
   "metadata": {},
   "source": [
    "## Construct Decistion Tree Classifier with train/test split dataset"
   ]
  },
  {
   "cell_type": "code",
   "execution_count": null,
   "metadata": {},
   "outputs": [],
   "source": [
    "from sklearn.tree import DecisionTreeClassifier\n",
    "from sklearn.model_selection import train_test_split\n",
    "from sklearn import metrics\n",
    "#from sklearn.externals.six import StringIO  \n",
    "from io import StringIO\n",
    "from IPython.display import Image  \n",
    "from sklearn.tree import export_graphviz\n",
    "import pydotplus\n",
    "\n",
    "#y=np.array(clf_data['school_drop_corr']).reshape(-1,1)\n",
    "#X=np.array(clf_data[feat_list])\n",
    "\n",
    "y=clf_data['out_of_school']\n",
    "X=clf_data[feat_list]\n",
    "\n",
    "train_X, val_X, train_y, val_y = train_test_split(X, y, test_size=0.25, random_state=1)\n",
    "\n",
    "\n",
    "data_model = DecisionTreeClassifier(random_state=1)\n",
    "data_model.fit(train_X,train_y)\n",
    "y_predict=data_model.predict(val_X)\n",
    "\n",
    "print(\"Accuracy: %3.1f %%\" %(metrics.accuracy_score(val_y, y_predict)*100) )"
   ]
  },
  {
   "cell_type": "code",
   "execution_count": null,
   "metadata": {},
   "outputs": [],
   "source": [
    "dot_data = StringIO()\n",
    "export_graphviz(data_model, out_file=dot_data\n",
    "                ,filled=True, rounded=True\n",
    "                ,feature_names = feat_list\n",
    "                ,class_names = ['attend', 'drop']\n",
    "                ,special_characters=True)\n",
    "graph = pydotplus.graph_from_dot_data(dot_data.getvalue())  \n",
    "graph.write_pdf(\"output_figures/decision_tree_picaps.pdf\")\n",
    "Image(graph.create_png())"
   ]
  },
  {
   "cell_type": "markdown",
   "metadata": {},
   "source": [
    "### Tuning the decision tree depth by checking accuracy"
   ]
  },
  {
   "cell_type": "code",
   "execution_count": null,
   "metadata": {},
   "outputs": [],
   "source": [
    "# function which calculates accuracy\n",
    "def get_acc(max_depth, train_X, val_X, train_y, val_y):\n",
    "    model = DecisionTreeClassifier(max_depth=max_depth, random_state=0)\n",
    "    model.fit(train_X, train_y)\n",
    "    preds_val = model.predict(val_X)\n",
    "    acc = metrics.accuracy_score(val_y, preds_val)*100\n",
    "    return(acc)\n",
    "\n",
    "# compare acc with differing values of max_leaf_nodes\n",
    "for max_depth in [2,3,4,5,6,7,8,9,10,15,50]:\n",
    "    my_acc = get_acc(max_depth, train_X, val_X, train_y, val_y)\n",
    "    print(\"Max depth: %d  \\t\\t Accuracy:  %3.1f\" %(max_depth, my_acc))"
   ]
  },
  {
   "cell_type": "code",
   "execution_count": null,
   "metadata": {},
   "outputs": [],
   "source": [
    "#We choose the leaf-node number which gives maximum accuracy\n",
    "data_model = DecisionTreeClassifier(max_depth=4, random_state=1)\n",
    "data_model.fit(train_X,train_y)\n",
    "pred_y=data_model.predict(val_X)\n",
    "\n",
    "dot_data = StringIO()\n",
    "export_graphviz(data_model, out_file=dot_data\n",
    "                ,filled=True, rounded=True\n",
    "                ,feature_names = feat_list\n",
    "                ,class_names = ['attend', 'out']\n",
    "                ,special_characters=True)\n",
    "graph = pydotplus.graph_from_dot_data(dot_data.getvalue())  \n",
    "graph.write_pdf(\"output_figures/decision_tree_tuned_picaps.pdf\")\n",
    "Image(graph.create_png())"
   ]
  },
  {
   "cell_type": "markdown",
   "metadata": {},
   "source": [
    "### Checking the importance of each feature in the classification process"
   ]
  },
  {
   "cell_type": "code",
   "execution_count": null,
   "metadata": {},
   "outputs": [],
   "source": [
    "import eli5\n",
    "from eli5.sklearn import PermutationImportance\n",
    "from IPython.display import display\n",
    "\n",
    "perm = PermutationImportance(data_model, random_state=1).fit(val_X, val_y)\n",
    "display(eli5.show_weights(perm, feature_names = val_X.columns.tolist()))"
   ]
  },
  {
   "cell_type": "code",
   "execution_count": null,
   "metadata": {},
   "outputs": [],
   "source": []
  },
  {
   "cell_type": "code",
   "execution_count": null,
   "metadata": {},
   "outputs": [],
   "source": []
  }
 ],
 "metadata": {
  "kernelspec": {
   "display_name": "Python 3",
   "language": "python",
   "name": "python3"
  },
  "language_info": {
   "codemirror_mode": {
    "name": "ipython",
    "version": 3
   },
   "file_extension": ".py",
   "mimetype": "text/x-python",
   "name": "python",
   "nbconvert_exporter": "python",
   "pygments_lexer": "ipython3",
   "version": "3.7.7"
  }
 },
 "nbformat": 4,
 "nbformat_minor": 4
}
