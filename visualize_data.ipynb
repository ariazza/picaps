{
 "cells": [
  {
   "cell_type": "markdown",
   "metadata": {},
   "source": [
    "# Data distributions and visualizations: PICAPS"
   ]
  },
  {
   "cell_type": "code",
   "execution_count": null,
   "metadata": {},
   "outputs": [],
   "source": [
    "import pandas as pd\n",
    "import seaborn as sns\n",
    "import matplotlib.pyplot as plt\n",
    "import numpy as np\n",
    "pd.plotting.register_matplotlib_converters()\n",
    "%matplotlib inline\n",
    "\n",
    "pd.set_option('display.max_rows', None)\n",
    "pd.set_option('display.max_columns', None)\n",
    "pd.set_option('display.width', None)\n",
    "pd.set_option('display.max_colwidth', None)"
   ]
  },
  {
   "cell_type": "code",
   "execution_count": null,
   "metadata": {},
   "outputs": [],
   "source": [
    "#Import clean dataset\n",
    "data=pd.read_csv('data_clean.csv')"
   ]
  },
  {
   "cell_type": "code",
   "execution_count": null,
   "metadata": {},
   "outputs": [],
   "source": [
    "data.shape"
   ]
  },
  {
   "cell_type": "markdown",
   "metadata": {},
   "source": [
    "## Data of beneficiaries interviewed"
   ]
  },
  {
   "cell_type": "markdown",
   "metadata": {},
   "source": [
    "### Distribution of age "
   ]
  },
  {
   "cell_type": "code",
   "execution_count": null,
   "metadata": {},
   "outputs": [],
   "source": [
    "age=data[['id','age']].groupby('age').count()\n",
    "\n",
    "plt.figure(figsize=(16,9))\n",
    "\n",
    "sns_plot=sns.barplot(x=age.index,y=age['id'])\n",
    "\n",
    "plt.title('Beneficiaries age distribution', fontsize=24)\n",
    "plt.ylabel('Counts', fontsize=20)\n",
    "plt.xlabel('Age', fontsize=20)\n",
    "\n",
    "fig=sns_plot.get_figure()\n",
    "fig.savefig('output_figures/beneficiaries_age_dist.pdf')"
   ]
  },
  {
   "cell_type": "code",
   "execution_count": null,
   "metadata": {},
   "outputs": [],
   "source": [
    "print(\"Mean age with standard deviation: %2.0f \\u00B1 %2.0f\" %(data['age'].mean(),data['age'].std()) )"
   ]
  },
  {
   "cell_type": "markdown",
   "metadata": {},
   "source": [
    "### Distribution of alphabetization languages"
   ]
  },
  {
   "cell_type": "code",
   "execution_count": null,
   "metadata": {},
   "outputs": [],
   "source": [
    "lang=pd.read_csv('output_files/languages.csv', index_col='language')\n",
    "\n",
    "plt.figure(figsize=(11,4))\n",
    "plt.title('Alphabetization language of beneficiaries', fontsize=18)\n",
    "\n",
    "sns_plot=sns.barplot(x=lang.index,y=lang['counts'])\n",
    "\n",
    "#plt.xticks(np.arange(7), ('French-Moore-Lyele', 'Moore-French', 'French-Lyele',  'Lyele-Nuni', 'Moore', 'French', 'None'))\n",
    "plt.xticks(np.arange(4), ('Lyele-Nuni', 'Moore', 'French', 'None'))\n",
    "\n",
    "plt.xlabel('Language', fontsize=16)\n",
    "plt.ylabel('Counts', fontsize=16)\n",
    "\n",
    "fig=sns_plot.get_figure()\n",
    "fig.savefig('output_figures/beneficiaries_lang_dist.pdf')"
   ]
  },
  {
   "cell_type": "markdown",
   "metadata": {},
   "source": [
    "### Distribution of schooling"
   ]
  },
  {
   "cell_type": "code",
   "execution_count": null,
   "metadata": {},
   "outputs": [],
   "source": [
    "schooling=data[['id','school_level']].groupby('school_level').count()\n",
    "\n",
    "plt.figure(figsize=(6,4))\n",
    "\n",
    "plt.title('Schooling level of beneficiaries', fontsize=18)\n",
    "\n",
    "sns_plot=sns.barplot(x=schooling.index,y=schooling['id'])\n",
    "\n",
    "plt.ylabel('Counts', fontsize=16)\n",
    "\n",
    "plt.xticks(np.arange(4), ('Never', 'Pre-school', 'Primary', 'Secondary'))\n",
    "plt.xlabel('School level', fontsize=16)\n",
    "\n",
    "fig=sns_plot.get_figure()\n",
    "fig.savefig('output_figures/beneficiaries_school_dist.pdf')"
   ]
  },
  {
   "cell_type": "markdown",
   "metadata": {},
   "source": [
    "## Data about kids of beneficiaries interviewed"
   ]
  },
  {
   "cell_type": "markdown",
   "metadata": {},
   "source": [
    "### Distribution of number of kids per family"
   ]
  },
  {
   "cell_type": "code",
   "execution_count": null,
   "metadata": {},
   "outputs": [],
   "source": [
    "kids=data[['id','num_kids']].groupby('num_kids').count()\n",
    "\n",
    "plt.figure(figsize=(11,4))\n",
    "\n",
    "sns_plot=sns.barplot(x=kids.index,y=kids['id'])\n",
    "\n",
    "plt.title('Number of kids per family', fontsize=18)\n",
    "plt.ylabel('Number of families', fontsize=16)\n",
    "plt.xlabel('Number of kids', fontsize=16)\n",
    "\n",
    "fig=sns_plot.get_figure()\n",
    "fig.savefig('output_figures/kids_number_dist.pdf')"
   ]
  },
  {
   "cell_type": "code",
   "execution_count": null,
   "metadata": {},
   "outputs": [],
   "source": [
    "print(\"Mean number of kids with standard deviation: %2.0f \\u00B1 %2.0f\" %(data['num_kids'].mean(),data['num_kids'].std()) )"
   ]
  },
  {
   "cell_type": "code",
   "execution_count": null,
   "metadata": {},
   "outputs": [],
   "source": [
    "kids_noschool=data[['id','num_kids_noschool']].groupby('num_kids_noschool').count()\n",
    "kids_noschool.drop(0, inplace=True)\n",
    "\n",
    "plt.figure(figsize=(9,4))\n",
    "\n",
    "sns_plot=sns.barplot(x=kids_noschool.index,y=kids_noschool['id'])\n",
    "\n",
    "plt.title('Number of kids per family with no schooling', fontsize=18)\n",
    "plt.ylabel('Number of families', fontsize=16)\n",
    "plt.xlabel('Number of kids', fontsize=16)\n",
    "#plt.xlim(1,4)\n",
    "\n",
    "fig=sns_plot.get_figure()\n",
    "fig.savefig('output_figures/kids_noschool_dist.pdf')"
   ]
  },
  {
   "cell_type": "code",
   "execution_count": null,
   "metadata": {},
   "outputs": [],
   "source": [
    "kids_primary=data[['id','num_kids_primary']].groupby('num_kids_primary').count()\n",
    "kids_primary.drop(0, inplace=True)\n",
    "\n",
    "plt.figure(figsize=(11,4))\n",
    "\n",
    "sns_plot=sns.barplot(x=kids_primary.index,y=kids_primary['id'])\n",
    "\n",
    "plt.title('Number of kids per family in primary school', fontsize=18)\n",
    "plt.ylabel('Number of families', fontsize=16)\n",
    "plt.xlabel('Number of kids', fontsize=16)\n",
    "\n",
    "fig=sns_plot.get_figure()\n",
    "fig.savefig('output_figures/kids_primary_dist.pdf')"
   ]
  },
  {
   "cell_type": "code",
   "execution_count": null,
   "metadata": {},
   "outputs": [],
   "source": [
    "kids_secondary=data[['id','num_kids_secondary']].groupby('num_kids_secondary').count()\n",
    "kids_secondary.drop(0, inplace=True)\n",
    "\n",
    "plt.figure(figsize=(9,4))\n",
    "\n",
    "sns_plot=sns.barplot(x=kids_secondary.index,y=kids_secondary['id'])\n",
    "\n",
    "plt.title('Number of kids per family in secondary school', fontsize=18)\n",
    "plt.ylabel('Number of families', fontsize=16)\n",
    "plt.xlabel('Number of kids', fontsize=16)\n",
    "\n",
    "fig=sns_plot.get_figure()\n",
    "fig.savefig('output_figures/kids_secondary_dist.pdf')"
   ]
  },
  {
   "cell_type": "code",
   "execution_count": null,
   "metadata": {},
   "outputs": [],
   "source": [
    "kids_left_school=data[['id','num_kids_left_school']].groupby('num_kids_left_school').count()\n",
    "kids_left_school.drop(0, inplace=True)\n",
    "\n",
    "plt.figure(figsize=(6,4))\n",
    "\n",
    "sns_plot=sns.barplot(x=kids_left_school.index,y=kids_left_school['id'])\n",
    "\n",
    "plt.title('Number of kids per family who left school', fontsize=18)\n",
    "plt.ylabel('Number of families', fontsize=16)\n",
    "plt.xlabel('Number of kids', fontsize=16)\n",
    "\n",
    "fig=sns_plot.get_figure()\n",
    "fig.savefig('output_figures/kids_leftschool_dist.pdf')"
   ]
  },
  {
   "cell_type": "markdown",
   "metadata": {},
   "source": [
    "### Distribution of number of girls per family"
   ]
  },
  {
   "cell_type": "code",
   "execution_count": null,
   "metadata": {},
   "outputs": [],
   "source": [
    "girls=data[['id','num_girls']].groupby('num_girls').count()\n",
    "\n",
    "plt.figure(figsize=(11,4))\n",
    "\n",
    "sns_plot=sns.barplot(x=girls.index,y=girls['id'])\n",
    "\n",
    "plt.title('Number of girls per family', fontsize=18)\n",
    "plt.ylabel('Number of families', fontsize=16)\n",
    "plt.xlabel('Number of girls', fontsize=16)\n",
    "\n",
    "fig=sns_plot.get_figure()\n",
    "fig.savefig('output_figures/girls_numbers_dist.pdf')"
   ]
  },
  {
   "cell_type": "code",
   "execution_count": null,
   "metadata": {},
   "outputs": [],
   "source": [
    "girls_noschool=data[['id','num_girls_noschool']].groupby('num_girls_noschool').count()\n",
    "girls_noschool.drop(0, inplace=True)\n",
    "\n",
    "plt.figure(figsize=(6,4))\n",
    "\n",
    "sns_plot=sns.barplot(x=girls_noschool.index,y=girls_noschool['id'])\n",
    "\n",
    "plt.title('Number of girls per family with no schooling', fontsize=18)\n",
    "plt.ylabel('Number of families', fontsize=16)\n",
    "plt.xlabel('Number of girls', fontsize=16)\n",
    "\n",
    "fig=sns_plot.get_figure()\n",
    "fig.savefig('output_figures/girls_noschool_dist.pdf')"
   ]
  },
  {
   "cell_type": "code",
   "execution_count": null,
   "metadata": {},
   "outputs": [],
   "source": [
    "girls_primary=data[['id','num_girls_primary']].groupby('num_girls_primary').count()\n",
    "girls_primary.drop(0, inplace=True)\n",
    "\n",
    "plt.figure(figsize=(11,4))\n",
    "\n",
    "sns_plot=sns.barplot(x=girls_primary.index,y=girls_primary['id'])\n",
    "\n",
    "plt.title('Number of girls per family in primary school', fontsize=18)\n",
    "plt.ylabel('Number of families', fontsize=16)\n",
    "plt.xlabel('Number of girls', fontsize=16)\n",
    "\n",
    "fig=sns_plot.get_figure()\n",
    "fig.savefig('output_figures/kids_primary_dist.pdf')"
   ]
  },
  {
   "cell_type": "code",
   "execution_count": null,
   "metadata": {},
   "outputs": [],
   "source": [
    "girls_secondary=data[['id','num_girls_secondary']].groupby('num_girls_secondary').count()\n",
    "girls_secondary.drop(0, inplace=True)\n",
    "\n",
    "plt.figure(figsize=(6,4))\n",
    "\n",
    "sns_plot=sns.barplot(x=girls_secondary.index,y=girls_secondary['id'])\n",
    "\n",
    "plt.title('Number of girls per family in secondary school', fontsize=18)\n",
    "plt.ylabel('Number of families', fontsize=16)\n",
    "plt.xlabel('Number of girls', fontsize=16)\n",
    "\n",
    "fig=sns_plot.get_figure()\n",
    "fig.savefig('output_figures/kids_secondary_dist.pdf')"
   ]
  },
  {
   "cell_type": "code",
   "execution_count": null,
   "metadata": {},
   "outputs": [],
   "source": [
    "girls_left_school=data[['id','num_girls_left_school']].groupby('num_girls_left_school').count()\n",
    "girls_left_school.drop(0, inplace=True)\n",
    "\n",
    "plt.figure(figsize=(6,4))\n",
    "\n",
    "sns_plot=sns.barplot(x=girls_left_school.index,y=girls_left_school['id'])\n",
    "\n",
    "plt.title('Number of girls per family who left school', fontsize=18)\n",
    "plt.ylabel('Number of families', fontsize=16)\n",
    "plt.xlabel('Number of kids', fontsize=16)\n",
    "\n",
    "fig=sns_plot.get_figure()\n",
    "fig.savefig('output_figures/girls_leftschool_dist.pdf')"
   ]
  },
  {
   "cell_type": "markdown",
   "metadata": {},
   "source": [
    "## Beneficiaries life situation: expenses, revenues, etc."
   ]
  },
  {
   "cell_type": "code",
   "execution_count": null,
   "metadata": {},
   "outputs": [],
   "source": [
    "plt.figure(figsize=(8,6))\n",
    "\n",
    "sns_plot=sns.distplot(a=data['total_revenue'], label=\"Total revenues\", kde=False)\n",
    "sns_plot=sns.distplot(a=data['total_expenses'], label=\"Total expenses\", kde=False)\n",
    "\n",
    "plt.legend(fontsize=18)\n",
    "plt.title(\"Distribution of revenues/expenses per family\", fontsize=20)\n",
    "plt.ylabel('Number of families', fontsize=18)\n",
    "plt.xlabel('CFA', fontsize=18)\n",
    "plt.xlim(0,2000000)\n",
    "\n",
    "fig=sns_plot.get_figure()\n",
    "fig.savefig('output_figures/total_expenses_revenues_dist.pdf')"
   ]
  },
  {
   "cell_type": "code",
   "execution_count": null,
   "metadata": {},
   "outputs": [],
   "source": [
    "plt.figure(figsize=(8,10))\n",
    "\n",
    "#f, ax = plt.subplots(figsize=(10, 8))\n",
    "sns_plot=sns.scatterplot(x=data['total_revenue'], y=data['total_expenses'])\n",
    "\n",
    "a=[0,500000]\n",
    "b=a\n",
    "sns_plot=sns.lineplot(a,b)\n",
    "\n",
    "plt.xlim(0,500000)\n",
    "plt.ylim(0,500000)\n",
    "#plt.title('Correlation total revenues-expenses per family', fontsize=20)\n",
    "plt.ylabel('Total expenses (FCA)', fontsize=18)\n",
    "plt.xlabel('Total revenues (FCA)', fontsize=18)\n",
    "\n",
    "fig=sns_plot.get_figure()\n",
    "fig.savefig('output_figures/total_expenses_vs_revenues.pdf')"
   ]
  },
  {
   "cell_type": "code",
   "execution_count": null,
   "metadata": {},
   "outputs": [],
   "source": [
    "sns_plot_joint=sns.jointplot(x=data['total_revenue'], y=data['total_expenses'], kind='reg', truncate=True)\n",
    "#plt.xlim(0,1000000)\n",
    "#plt.ylim(0,500000)\n",
    "#plt.title('Correlation total revenues-expenses per family', fontsize=20)\n",
    "plt.ylabel('Total expenses (FCA)', fontsize=18)\n",
    "plt.xlabel('Total revenues (FCA)', fontsize=18)"
   ]
  },
  {
   "cell_type": "code",
   "execution_count": null,
   "metadata": {},
   "outputs": [],
   "source": [
    "revenues=pd.DataFrame({'Revenues_percent':[42.1,21.4,10.5,8.0,5.2,4.3,4.1,4.0,0.2]})\n",
    "plt.figure(figsize=(14,6))\n",
    "sns_plot=sns.barplot(x=revenues.index,y=revenues['Revenues_percent'])\n",
    "\n",
    "plt.xticks(np.arange(9), ('Cereals','Small Business','Other','Pork','Remittance'\n",
    "                          ,'Vegetables','Small ruminants','Chickens' , 'Cows'), fontsize=12)\n",
    "plt.ylabel('Percentage %', fontsize=18)\n",
    "plt.title('Average of percentage of revenues', fontsize=20)\n",
    "\n",
    "fig=sns_plot.get_figure()\n",
    "fig.savefig('output_figures/average_percent_revenues_dist.pdf')"
   ]
  },
  {
   "cell_type": "code",
   "execution_count": null,
   "metadata": {},
   "outputs": [],
   "source": [
    "expenses=pd.DataFrame({'Expenses_percent':[38.1,14.2,12.9,12.5,11.3,7.9,3.0]})\n",
    "plt.figure(figsize=(14,6))\n",
    "sns_plot=sns.barplot(x=expenses.index,y=expenses['Expenses_percent'])\n",
    "\n",
    "plt.xticks(np.arange(7), ('Food','School fees','Agro-pastoral','Other','Medicine'\n",
    "                          ,'Community life','Construction'), fontsize=12)\n",
    "plt.ylabel('Percentage %', fontsize=18)\n",
    "plt.title('Average of percentage of expenses', fontsize=20)\n",
    "\n",
    "fig=sns_plot.get_figure()\n",
    "fig.savefig('output_figures/average_percent_expenses_dist.pdf')"
   ]
  },
  {
   "cell_type": "code",
   "execution_count": null,
   "metadata": {},
   "outputs": [],
   "source": []
  }
 ],
 "metadata": {
  "kernelspec": {
   "display_name": "Python 3",
   "language": "python",
   "name": "python3"
  },
  "language_info": {
   "codemirror_mode": {
    "name": "ipython",
    "version": 3
   },
   "file_extension": ".py",
   "mimetype": "text/x-python",
   "name": "python",
   "nbconvert_exporter": "python",
   "pygments_lexer": "ipython3",
   "version": "3.7.7"
  }
 },
 "nbformat": 4,
 "nbformat_minor": 4
}
